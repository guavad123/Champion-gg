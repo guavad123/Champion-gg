{
 "cells": [
  {
   "cell_type": "code",
   "execution_count": 45,
   "metadata": {},
   "outputs": [],
   "source": [
    "import pandas as pd\n",
    "import matplotlib.pyplot as plt\n",
    "import requests\n",
    "import bs4\n",
    "from bs4 import BeautifulSoup\n",
    "from tqdm.notebook import tqdm\n",
    "%matplotlib inline"
   ]
  },
  {
   "cell_type": "code",
   "execution_count": 66,
   "metadata": {},
   "outputs": [],
   "source": [
    "def get_championgg_url():\n",
    "    cham_list = []\n",
    "    url = \"https://champion.gg/\"\n",
    "    html = requests.get(url, timeout=30).text\n",
    "    html = BeautifulSoup(html,\"html.parser\")\n",
    "    cham = html.find(name=\"div\", attrs={\"class\": \"col-md-9 clearfix\"})\n",
    "    for cham_data in cham.find_all(name=\"div\", attrs={\"class\": \"champ-height\"}):\n",
    "        virt = []\n",
    "        # counterexample-> (NUNU & Willump , jungle) (Dr.Mundo , top) (Dr.Mundo , jungle) \n",
    "        cham_name = cham_data.find(name=\"span\", attrs={\"class\": \"champion-name\"}).string\n",
    "        cham_name = cham_name.split(\"&\")[0]\n",
    "        cham_name = cham_name.replace(\" \",\"\").replace(\".\",\"\")\n",
    "        virt.append(cham_name)\n",
    "        for lane in cham_data.find_all(name=\"a\")[1:]:\n",
    "            cham_lane = lane.string\n",
    "            cham_lane = cham_lane.replace(\" \",\"\")\n",
    "            cham_lane = cham_lane.replace(\"\\n\",\"\")\n",
    "            virt.append(cham_lane)\n",
    "        cham_list.append(virt)\n",
    "    cham_url_list = []\n",
    "    for i in range(len(cham_list)):\n",
    "        for lane in cham_list[i][1:]:\n",
    "            cham_url=url+\"champion/\"+str(cham_list[i][0])+\"/\"+str(lane)\n",
    "            cham_url_list.append(cham_url)\n",
    "    return cham_url_list"
   ]
  },
  {
   "cell_type": "code",
   "execution_count": 109,
   "metadata": {},
   "outputs": [],
   "source": [
    "# url=get_championgg_url()\n",
    "# for i in range(len(url)):\n",
    "#     cham_url = str(url[i])\n",
    "def get_championgg_data(url):\n",
    "    html = requests.get(url, timeout=30).text\n",
    "    html = BeautifulSoup(html,\"html.parser\")\n",
    "    tbody = html.find(name=\"tbody\")\n",
    "    cham_name = url.split(\"/\")[-2]\n",
    "    cham_lane = url.split(\"/\")[-1]\n",
    "    descript = [cham_name,cham_lane]\n",
    "    cham_type = []\n",
    "    if tbody is not None:\n",
    "        for tr in tbody.find_all(name=\"tr\", limit=11):\n",
    "            if isinstance(tr, bs4.element.Tag):\n",
    "                tds = tr.find_all(name=\"td\")\n",
    "                # find champion type\n",
    "                if tds[0] is not None:\n",
    "                    kind = str(tds[0].find(name=\"a\").string).replace(\"\\n\",\"\")\n",
    "                    kind = kind.rstrip().lstrip()\n",
    "                    cham_type.append(kind)\n",
    "                    cham_type.append(kind+\"_Role Placement\")\n",
    "        #       find average\n",
    "                if tds[1] is not None:\n",
    "                    average = str(tds[1].string).replace(\"\\n\",\"\").replace(\" \",\"\")\n",
    "                    descript.append(average)\n",
    "        #       find role placement\n",
    "                if tds[2] is not None:\n",
    "                    p_strong = str(tds[2].find(name=\"strong\").string).replace(\"\\n\",\"\").replace(\" \",\"\")\n",
    "                    p_small = str(tds[2].find(name=\"small\").string).replace(\"\\n\",\"\").replace(\" \",\"\")\n",
    "                    p=p_strong+p_small\n",
    "                    descript.append(p)\n",
    "        # overall placement\n",
    "        if isinstance(tr, bs4.element.Tag):\n",
    "            tr = tbody.find_all(name=\"tr\")\n",
    "            p_strong = str(tr[-1].find(name=\"strong\").string).replace(\"\\n\",\"\").replace(\" \",\"\")\n",
    "            p_small = str(tr[-1].find(name=\"small\").string).replace(\"\\n\",\"\").replace(\" \",\"\")\n",
    "            p=p_strong+p_small\n",
    "            descript.append(p)\n",
    "    return cham_type,descript"
   ]
  },
  {
   "cell_type": "code",
   "execution_count": 114,
   "metadata": {},
   "outputs": [],
   "source": [
    "def get_championgg_dataframe():\n",
    "    urls = get_championgg_url()\n",
    "    data_list = []\n",
    "    for url in tqdm(urls):\n",
    "        cham_type , cham_list = get_championgg_data(url)\n",
    "        data_list.append(cham_list)\n",
    "    df_columns_name = [\"Champion Name\",\"Lane\"]+cham_type+[\"Overall Placement\"]\n",
    "    dataframe = pd.DataFrame(data_list)\n",
    "    dataframe.columns = df_columns_name\n",
    "    return dataframe"
   ]
  },
  {
   "cell_type": "code",
   "execution_count": 115,
   "metadata": {},
   "outputs": [
    {
     "data": {
      "application/vnd.jupyter.widget-view+json": {
       "model_id": "ed10f68f4c92430ca4b5f6e1b5d0ce98",
       "version_major": 2,
       "version_minor": 0
      },
      "text/plain": [
       "HBox(children=(FloatProgress(value=0.0, max=208.0), HTML(value='')))"
      ]
     },
     "metadata": {},
     "output_type": "display_data"
    },
    {
     "name": "stdout",
     "output_type": "stream",
     "text": [
      "\n"
     ]
    }
   ],
   "source": [
    "a = get_championgg_dataframe()"
   ]
  },
  {
   "cell_type": "code",
   "execution_count": 77,
   "metadata": {},
   "outputs": [],
   "source": [
    "def check_null_data(df):\n",
    "    null_columns = df.columns[df.isnull().any()]\n",
    "    return df[df.isnull().any(axis=1)][null_columns]"
   ]
  },
  {
   "cell_type": "code",
   "execution_count": 79,
   "metadata": {},
   "outputs": [
    {
     "data": {
      "text/html": [
       "<div>\n",
       "<style scoped>\n",
       "    .dataframe tbody tr th:only-of-type {\n",
       "        vertical-align: middle;\n",
       "    }\n",
       "\n",
       "    .dataframe tbody tr th {\n",
       "        vertical-align: top;\n",
       "    }\n",
       "\n",
       "    .dataframe thead th {\n",
       "        text-align: right;\n",
       "    }\n",
       "</style>\n",
       "<table border=\"1\" class=\"dataframe\">\n",
       "  <thead>\n",
       "    <tr style=\"text-align: right;\">\n",
       "      <th></th>\n",
       "    </tr>\n",
       "  </thead>\n",
       "  <tbody>\n",
       "  </tbody>\n",
       "</table>\n",
       "</div>"
      ],
      "text/plain": [
       "Empty DataFrame\n",
       "Columns: []\n",
       "Index: []"
      ]
     },
     "execution_count": 79,
     "metadata": {},
     "output_type": "execute_result"
    }
   ],
   "source": [
    "df_null = check_null_data(b)\n",
    "df_null"
   ]
  },
  {
   "cell_type": "code",
   "execution_count": 112,
   "metadata": {},
   "outputs": [],
   "source": [
    "name,data = get_championgg_data(\"https://champion.gg/champion/Aatrox/Top\")"
   ]
  },
  {
   "cell_type": "code",
   "execution_count": 113,
   "metadata": {},
   "outputs": [
    {
     "data": {
      "text/plain": [
       "['Win Rate',\n",
       " 'Win Rate_Role Placement',\n",
       " 'Play Rate',\n",
       " 'Play Rate_Role Placement',\n",
       " 'Ban Rate',\n",
       " 'Ban Rate_Role Placement',\n",
       " 'Playerbase Average Games Played',\n",
       " 'Playerbase Average Games Played_Role Placement',\n",
       " 'Gold Earned',\n",
       " 'Gold Earned_Role Placement',\n",
       " 'Kills',\n",
       " 'Kills_Role Placement',\n",
       " 'Deaths',\n",
       " 'Deaths_Role Placement',\n",
       " 'Assists',\n",
       " 'Assists_Role Placement',\n",
       " 'Damage Dealt',\n",
       " 'Damage Dealt_Role Placement',\n",
       " 'Damage Taken',\n",
       " 'Damage Taken_Role Placement',\n",
       " 'Minions Killed',\n",
       " 'Minions Killed_Role Placement']"
      ]
     },
     "execution_count": 113,
     "metadata": {},
     "output_type": "execute_result"
    }
   ],
   "source": [
    "name"
   ]
  },
  {
   "cell_type": "code",
   "execution_count": null,
   "metadata": {},
   "outputs": [],
   "source": []
  }
 ],
 "metadata": {
  "kernelspec": {
   "display_name": "cc1",
   "language": "python",
   "name": "cc1"
  },
  "language_info": {
   "codemirror_mode": {
    "name": "ipython",
    "version": 3
   },
   "file_extension": ".py",
   "mimetype": "text/x-python",
   "name": "python",
   "nbconvert_exporter": "python",
   "pygments_lexer": "ipython3",
   "version": "3.7.3"
  }
 },
 "nbformat": 4,
 "nbformat_minor": 4
}
